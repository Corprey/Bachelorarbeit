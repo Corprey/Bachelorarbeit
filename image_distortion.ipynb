{
 "cells": [
  {
   "cell_type": "markdown",
   "id": "cce4d647-d3c1-4e4c-8036-50e9aa1bab64",
   "metadata": {},
   "source": [
    "# Image distortion script\n",
    "\n",
    "This script distorts all images at the provided location in either their brightness, color, contrast or sharpness.\n",
    "The paths and overall structure of this script is designed in regard to the GTSDB dataset structure.\n",
    "\n",
    "## Distort Images randomly\n",
    "In this code snippet each image gets randomly distorted in one of the following categories:\n",
    "* Brightness\n",
    "* Contrast\n",
    "* Color\n",
    "\n",
    "The scale of distortion is also randomly selected from a priviously provided range.\n",
    "The range has to be between 0 and 2, where 1 is the original image."
   ]
  },
  {
   "cell_type": "markdown",
   "id": "f32ace23-a8dc-488c-a17e-e94acf5ea39e",
   "metadata": {},
   "source": [
    "### Define dependencies"
   ]
  },
  {
   "cell_type": "code",
   "execution_count": null,
   "id": "f6b6cd9b-eca2-413c-ba9b-00f817cc8db3",
   "metadata": {},
   "outputs": [],
   "source": [
    "import os\n",
    "from PIL import Image\n",
    "from PIL import ImageEnhance"
   ]
  },
  {
   "cell_type": "markdown",
   "id": "9b5b3d82-01fd-4f05-b667-fd389a415da4",
   "metadata": {},
   "source": [
    "### Distortion function"
   ]
  },
  {
   "cell_type": "code",
   "execution_count": 18,
   "id": "e36b8c04-f787-48a8-9cd8-965910919aa4",
   "metadata": {},
   "outputs": [],
   "source": [
    "# Define the distortion boundaries, in this case [0.2, 1.8]\n",
    "lower_boundary = 0.2\n",
    "upper_boundary = 1.8"
   ]
  },
  {
   "cell_type": "code",
   "execution_count": 19,
   "id": "8ec5cc08-add4-48b6-8971-8c4043726645",
   "metadata": {},
   "outputs": [],
   "source": [
    "def distort_image(source_path, output_path, image_name, distortion_factor, distortion_type):\n",
    "\n",
    "    if distortion_factor < lower_boundary:\n",
    "        distortion_factor = lower_boundary\n",
    "    elif distortion_factor > upper_boundary:\n",
    "        distortion_factor = upper_boundary\n",
    "\n",
    "    image = Image.open(os.path.join(source_path, image_name))\n",
    "\n",
    "    # Select enhancer\n",
    "    match distortion_type:\n",
    "        case \"brightness\":\n",
    "            enhancer = ImageEnhance.Brightness(image)\n",
    "        case \"contrast\":\n",
    "            enhancer = ImageEnhance.Contrast(image)  \n",
    "        case \"sharpness\":\n",
    "             enhancer = ImageEnhance.Sharpness(image)  \n",
    "        case \"color\":\n",
    "            enhancer = ImageEnhance.Color(image)\n",
    "        case _:\n",
    "            print(\"Error: Unexpected distortion type: \" + distortion_type)\n",
    "            return\n",
    "               \n",
    "    distorted_image = enhancer.enhance(distortion_factor) \n",
    "    distorted_image.save(os.path.join(output_path, image_name))"
   ]
  },
  {
   "cell_type": "code",
   "execution_count": 17,
   "id": "271e1bb7-938c-4110-9dd5-c5c3c8de22db",
   "metadata": {},
   "outputs": [
    {
     "name": "stdout",
     "output_type": "stream",
     "text": [
      "1.8\n"
     ]
    }
   ],
   "source": [
    "# Usage example\n",
    "source_path = \"../../GTSDB/images\"  # Replace with the path to your image\n",
    "output_path = \"../../GTSDB/images/distorted\"  # Replace with the path to your image\n",
    "image_name = \"00000.png\"\n",
    "\n",
    "# Ensure the output directory exists\n",
    "os.makedirs(output_path, exist_ok=True)\n",
    "\n",
    "distortion_factor = 1.8\n",
    "distortion_type = \"brightness\"\n",
    "distort_image(source_path, output_path, image_name, distortion_factor, distortion_type)"
   ]
  }
 ],
 "metadata": {
  "kernelspec": {
   "display_name": "Python 3 (ipykernel)",
   "language": "python",
   "name": "python3"
  },
  "language_info": {
   "codemirror_mode": {
    "name": "ipython",
    "version": 3
   },
   "file_extension": ".py",
   "mimetype": "text/x-python",
   "name": "python",
   "nbconvert_exporter": "python",
   "pygments_lexer": "ipython3",
   "version": "3.10.9"
  }
 },
 "nbformat": 4,
 "nbformat_minor": 5
}
