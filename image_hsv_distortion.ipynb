{
 "cells": [
  {
   "cell_type": "markdown",
   "id": "cce4d647-d3c1-4e4c-8036-50e9aa1bab64",
   "metadata": {},
   "source": [
    "# Image distortion script\n",
    "\n",
    "This script distorts all images at the provided location in in the HSV color space.\n",
    "The paths and overall structure of this script is designed in regard to the GTSDB dataset structure.\n",
    "\n",
    "## Distort Images randomly\n",
    "The scale of distortion lies randomly between 1.4 and 1.7"
   ]
  },
  {
   "cell_type": "markdown",
   "id": "f32ace23-a8dc-488c-a17e-e94acf5ea39e",
   "metadata": {},
   "source": [
    "### Define dependencies and important paths"
   ]
  },
  {
   "cell_type": "code",
   "execution_count": 1,
   "id": "f6b6cd9b-eca2-413c-ba9b-00f817cc8db3",
   "metadata": {},
   "outputs": [],
   "source": [
    "import os\n",
    "from PIL import Image\n",
    "from PIL import ImageEnhance\n",
    "import random"
   ]
  },
  {
   "cell_type": "code",
   "execution_count": 2,
   "id": "34582de5-72c0-40e0-a809-d225bed7ae6e",
   "metadata": {},
   "outputs": [],
   "source": [
    "# Path to GTSDB root folder\n",
    "gtsdb_path = \"../../GTSDB\""
   ]
  },
  {
   "cell_type": "markdown",
   "id": "9b5b3d82-01fd-4f05-b667-fd389a415da4",
   "metadata": {},
   "source": [
    "### Distortion function"
   ]
  },
  {
   "cell_type": "code",
   "execution_count": 3,
   "id": "aeba6fdb-cbe0-450b-a868-30c41d1d02e7",
   "metadata": {},
   "outputs": [],
   "source": [
    "# Define the distortion boundaries, in this case [0.2, 1.8]\n",
    "lower_boundary = 0.2\n",
    "upper_boundary = 1.8\n",
    "\n",
    "original_images_path = os.path.join(gtsdb_path, \"images\")\n",
    "distorted_images_path = os.path.join(gtsdb_path, \"images/distorted_hsv\")\n",
    "\n",
    "# Ensure the output directory exists\n",
    "os.makedirs(distorted_images_path, exist_ok=True)"
   ]
  },
  {
   "cell_type": "code",
   "execution_count": 4,
   "id": "8ec5cc08-add4-48b6-8971-8c4043726645",
   "metadata": {},
   "outputs": [],
   "source": [
    "def distort_image(source_path, output_path, image_name, distortion_factor):\n",
    "\n",
    "    if distortion_factor < lower_boundary:\n",
    "        distortion_factor = lower_boundary\n",
    "    elif distortion_factor > upper_boundary:\n",
    "        distortion_factor = upper_boundary\n",
    "\n",
    "    image = Image.open(os.path.join(source_path, image_name))\n",
    "    image_hsv = image.convert('HSV')\n",
    "    enhancer = ImageEnhance.Color(image_hsv)\n",
    "    enhanced_image_hsv = enhancer.enhance(distortion_factor)\n",
    "    enhanced_image_rgb = enhanced_image_hsv.convert('RGB')\n",
    "    enhanced_image_rgb.save(os.path.join(output_path, image_name))"
   ]
  },
  {
   "cell_type": "code",
   "execution_count": 5,
   "id": "fd6e8c05-bab0-4ff4-8eff-f640eb835d53",
   "metadata": {},
   "outputs": [],
   "source": [
    "for filename in os.listdir(original_images_path):\n",
    "    if filename.endswith(\".png\"):      \n",
    "        distortion_factor = random.uniform(lower_boundary, upper_boundary)\n",
    "        \n",
    "        distort_image(original_images_path, distorted_images_path, filename, distortion_factor)"
   ]
  },
  {
   "cell_type": "code",
   "execution_count": null,
   "id": "8d7988c2-c13a-4b33-8474-21b796409b9a",
   "metadata": {},
   "outputs": [],
   "source": []
  }
 ],
 "metadata": {
  "kernelspec": {
   "display_name": "Python 3 (ipykernel)",
   "language": "python",
   "name": "python3"
  },
  "language_info": {
   "codemirror_mode": {
    "name": "ipython",
    "version": 3
   },
   "file_extension": ".py",
   "mimetype": "text/x-python",
   "name": "python",
   "nbconvert_exporter": "python",
   "pygments_lexer": "ipython3",
   "version": "3.10.9"
  }
 },
 "nbformat": 4,
 "nbformat_minor": 5
}
