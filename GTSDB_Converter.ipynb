{
 "cells": [
  {
   "cell_type": "markdown",
   "id": "e7f7d4dc-0c85-477c-9c7f-6dda569df09f",
   "metadata": {},
   "source": [
    "# GTSDB dataset converter\n",
    "This script converts the overall GTSDB dataset format to a more usable YOLOv5 format.\n",
    "The following steps are executed:\n",
    "* moves relevant images from the GTSDB folder structure to new folder structure\n",
    "* deletes unnecessary files and folders\n",
    "* converts images from .ppm file format to .png file format"
   ]
  },
  {
   "cell_type": "markdown",
   "id": "6ca5bf03-ff41-4d77-b405-c61b33b199b7",
   "metadata": {},
   "source": [
    "## Define dependencies and important paths"
   ]
  },
  {
   "cell_type": "code",
   "execution_count": 25,
   "id": "ab3b2eff-21ec-4e32-97a0-ad60fe7a29e5",
   "metadata": {},
   "outputs": [],
   "source": [
    "import os\n",
    "import shutil\n",
    "import csv\n",
    "from PIL import Image"
   ]
  },
  {
   "cell_type": "code",
   "execution_count": 15,
   "id": "c9c95859-a16c-4c2f-bb12-5d0ea4c15822",
   "metadata": {},
   "outputs": [],
   "source": [
    "# Path to GTSDB root folder\n",
    "gtsdb_path = \"../../GTSDB\""
   ]
  },
  {
   "cell_type": "markdown",
   "id": "dc53e7ab-7f2c-41e6-a46d-fd7fd1a917a8",
   "metadata": {},
   "source": [
    "## Download dataset"
   ]
  },
  {
   "cell_type": "markdown",
   "id": "ee5e50ce-bcf2-4b08-8cf8-ed1b484c6653",
   "metadata": {},
   "source": [
    "There are different sources for the GTSDB dataset.\n",
    "For consistency, please download the GTSDB dataset from kaggle.\n",
    "\n",
    "It can be found here: [GTSDB Dataset](https://www.kaggle.com/datasets/safabouguezzi/german-traffic-sign-detection-benchmark-gtsdb)\n",
    "\n",
    "You might need to unzip downloaded folder and rename it to \"GTSDB\"."
   ]
  },
  {
   "cell_type": "markdown",
   "id": "aff3887d-5dfa-4f14-92eb-2f51aa29e099",
   "metadata": {},
   "source": [
    "### define Paths "
   ]
  },
  {
   "cell_type": "code",
   "execution_count": 17,
   "id": "1a04ef48-f3a6-4cac-a513-0cea12d996f8",
   "metadata": {},
   "outputs": [],
   "source": [
    "# Path to directory containing the train images\n",
    "train_source_directory = os.path.join(gtsdb_path, \"TrainIJCNN2013/TrainIJCNN2013\")\n",
    "\n",
    "# Path to directory containing the test images\n",
    "test_source_directory = os.path.join(gtsdb_path, \"TestIJCNN2013/TestIJCNN2013Download\")\n",
    "\n",
    "# Path to new train image location\n",
    "train_output_directory = os.path.join(gtsdb_path, \"images\")\n",
    "\n",
    "# Path to new test image location\n",
    "test_output_directory = os.path.join(gtsdb_path, \"images/test\")"
   ]
  },
  {
   "cell_type": "code",
   "execution_count": 18,
   "id": "2812175d-b91b-4432-b82f-14a242d0f796",
   "metadata": {},
   "outputs": [],
   "source": [
    "# Ensure the output directory exists\n",
    "os.makedirs(train_output_directory, exist_ok=True)\n",
    "os.makedirs(test_output_directory, exist_ok=True)"
   ]
  },
  {
   "cell_type": "markdown",
   "id": "71ea2ffa-8d41-446e-af98-8dc0b5220e0d",
   "metadata": {},
   "source": [
    "### Move train images"
   ]
  },
  {
   "cell_type": "code",
   "execution_count": 19,
   "id": "aede12a9-f644-4628-81f9-9ec13c026306",
   "metadata": {},
   "outputs": [],
   "source": [
    "for filename in os.listdir(train_source_directory):\n",
    "    if filename.endswith(\".ppm\"):\n",
    "        image_source_path = os.path.join(train_source_directory, filename)\n",
    "        image_output_path = os.path.join(train_output_directory, filename)\n",
    "        shutil.move(image_source_path, image_output_path)"
   ]
  },
  {
   "cell_type": "markdown",
   "id": "5359e2e2-47df-423d-a468-09d381242cba",
   "metadata": {},
   "source": [
    "### Move test images"
   ]
  },
  {
   "cell_type": "code",
   "execution_count": 20,
   "id": "30fa85b9-709d-4516-854f-36c826cf3842",
   "metadata": {},
   "outputs": [],
   "source": [
    "for filename in os.listdir(test_source_directory):\n",
    "    if filename.endswith(\".ppm\"):\n",
    "        image_source_path = os.path.join(test_source_directory, filename)\n",
    "        image_output_path = os.path.join(test_output_directory, filename)\n",
    "        shutil.move(image_source_path, image_output_path)"
   ]
  },
  {
   "cell_type": "markdown",
   "id": "05cf3cd9-9d52-464f-b6b5-bdd90116876e",
   "metadata": {},
   "source": [
    "## Delete unnecessary files"
   ]
  },
  {
   "cell_type": "code",
   "execution_count": 21,
   "id": "b0bd5500-48b0-4ce1-bb9e-9be52af5cf4a",
   "metadata": {},
   "outputs": [],
   "source": [
    "shutil.rmtree(os.path.join(gtsdb_path, \"TrainIJCNN2013\"))\n",
    "shutil.rmtree(os.path.join(gtsdb_path, \"TestIJCNN2013\"))"
   ]
  },
  {
   "cell_type": "markdown",
   "id": "09df5926-edd6-47d0-a6c9-67cd545b46d5",
   "metadata": {},
   "source": [
    "## Convert .ppm to .png"
   ]
  },
  {
   "cell_type": "code",
   "execution_count": 23,
   "id": "8d4f8ba5-4162-48ce-9c0c-6e1e4cda3e5f",
   "metadata": {},
   "outputs": [],
   "source": [
    "def convert_ppm_to_png(source_path, output_path = None): \n",
    "    if output_path is None:\n",
    "        output_path = source_path\n",
    "        \n",
    "    # Loop through each file in the ppm directory\n",
    "    for filename in os.listdir(source_path):\n",
    "        if filename.endswith(\".ppm\"):\n",
    "            # Open the .ppm file\n",
    "            ppm_path = os.path.join(source_path, filename)\n",
    "            image = Image.open(ppm_path)\n",
    "    \n",
    "            # Create the .png filename\n",
    "            png_filename = os.path.splitext(filename)[0] + \".png\"\n",
    "            png_path = os.path.join(output_path, png_filename)\n",
    "    \n",
    "            # Save the image as .png\n",
    "            image.save(png_path, \"PNG\")\n",
    "    \n",
    "            # Remove old file\n",
    "            os.remove(ppm_path)"
   ]
  },
  {
   "cell_type": "code",
   "execution_count": 24,
   "id": "fa7de6c4-d09a-478a-9e05-601ac3886fcc",
   "metadata": {},
   "outputs": [],
   "source": [
    "convert_ppm_to_png(train_output_directory)\n",
    "convert_ppm_to_png(test_output_directory)"
   ]
  },
  {
   "cell_type": "markdown",
   "id": "b3fbcaa3-8ccd-4116-8f87-099caa26d923",
   "metadata": {},
   "source": [
    "## Convert label format"
   ]
  },
  {
   "cell_type": "code",
   "execution_count": 29,
   "id": "5a4ef244-cd8b-4fc6-80ef-9ccf35c0b0e1",
   "metadata": {},
   "outputs": [],
   "source": [
    "# Converts the GTSDB training labels into YOLOv5 structured labels\n",
    "def convert_gtsdb_to_yolov5(gtsdb_labels_path, yolo_labels_path, images_path):\n",
    "    # Read the GTSDB annotation file\n",
    "    with open(gtsdb_labels_path, 'r') as f:\n",
    "        reader = csv.reader(f,  delimiter=';')\n",
    "        annotations = list(reader)\n",
    "        \n",
    "    # Create a YOLOv5 annotation file for each annotation/line in the old label file\n",
    "    for annotation in annotations:\n",
    "\n",
    "        # Extract the image filename from the GTSDB annotation\n",
    "        image_filepath = annotation[0] \n",
    "        image_filename = image_filepath.split('.')[0]\n",
    "\n",
    "        # Convert the GTSDB bounding box coordinates to YOLOv5 format\n",
    "        box_x_center = (int(annotation[1]) + int(annotation[3])) / 2\n",
    "        box_y_center = (int(annotation[2]) + int(annotation[4])) / 2\n",
    "        box_width = (int(annotation[3]) - int(annotation[1])) \n",
    "        box_height = (int(annotation[4]) - int(annotation[2]))\n",
    "\n",
    "        # Normalise the co-ordinates by the dimensions of the image\n",
    "        image = Image.open(os.path.join(images_path, image_filename + \".png\"))\n",
    "        img_width = image.width\n",
    "        img_height = image.height\n",
    "        box_x_center /= img_width \n",
    "        box_y_center /= img_height \n",
    "        box_width    /= img_width \n",
    "        box_height   /= img_height \n",
    "\n",
    "        # Write the YOLOv5 annotation to the file\n",
    "        class_id = int(annotation[5])\n",
    "        with open(os.path.join(yolo_labels_path, image_filename + \".txt\"), 'a+') as f:\n",
    "          f.write(\"{} {:.3f} {:.3f} {:.3f} {:.3f}\\n\".format(class_id, box_x_center, box_y_center, box_width, box_height))"
   ]
  },
  {
   "cell_type": "code",
   "execution_count": 28,
   "id": "e773f100-d3f4-45b2-8659-bde4b86e4880",
   "metadata": {},
   "outputs": [
    {
     "name": "stdout",
     "output_type": "stream",
     "text": [
      "Conversion complete.\n"
     ]
    }
   ],
   "source": [
    "# Set relevant paths and start conversion\n",
    "gtsdb_labels_path = os.path.join(gtsdb_path, \"gt.txt\")\n",
    "yolo_labels_path = os.path.join(gtsdb_path, \"labels\")\n",
    "\n",
    "# Ensure the output directory exists\n",
    "os.makedirs(yolo_labels_path, exist_ok=True)\n",
    "\n",
    "convert_gtsdb_to_yolov5(gtsdb_labels_path, yolo_labels_path, train_output_directory)"
   ]
  }
 ],
 "metadata": {
  "kernelspec": {
   "display_name": "Python 3 (ipykernel)",
   "language": "python",
   "name": "python3"
  },
  "language_info": {
   "codemirror_mode": {
    "name": "ipython",
    "version": 3
   },
   "file_extension": ".py",
   "mimetype": "text/x-python",
   "name": "python",
   "nbconvert_exporter": "python",
   "pygments_lexer": "ipython3",
   "version": "3.10.9"
  }
 },
 "nbformat": 4,
 "nbformat_minor": 5
}
