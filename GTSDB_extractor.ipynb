{
 "cells": [
  {
   "cell_type": "markdown",
   "id": "e7f7d4dc-0c85-477c-9c7f-6dda569df09f",
   "metadata": {},
   "source": [
    "# GTSDB image extractor\n",
    "This script extracts the images from the GTSDB dataset structure to a specified folder location.\n",
    "It also converts the images from .ppm file format to .png file format."
   ]
  },
  {
   "cell_type": "code",
   "execution_count": null,
   "id": "8e909165-402c-4b67-bb6e-2e83a3af5306",
   "metadata": {},
   "outputs": [],
   "source": [
    "# Path to the directory containing the .ppm files\n",
    "ppm_directory = \"../../GTSDB/TrainIJCNN2013/TrainIJCNN2013\"\n",
    "\n",
    "# Path to the directory where you want to save the .png files\n",
    "png_directory = \"../../GTSDB/images\""
   ]
  },
  {
   "cell_type": "code",
   "execution_count": null,
   "id": "8d4f8ba5-4162-48ce-9c0c-6e1e4cda3e5f",
   "metadata": {},
   "outputs": [],
   "source": [
    "import os\n",
    "from PIL import Image\n",
    "\n",
    "# Ensure the PNG directory exists\n",
    "os.makedirs(png_directory, exist_ok=True)\n",
    "\n",
    "# Loop through each file in the ppm directory\n",
    "for filename in os.listdir(ppm_directory):\n",
    "    if filename.endswith(\".ppm\"):\n",
    "        # Open the .ppm file\n",
    "        ppm_path = os.path.join(ppm_directory, filename)\n",
    "        image = Image.open(ppm_path)\n",
    "\n",
    "        # Create the .png filename\n",
    "        png_filename = os.path.splitext(filename)[0] + \".png\"\n",
    "        png_path = os.path.join(png_directory, png_filename)\n",
    "\n",
    "        # Save the image as .png\n",
    "        image.save(png_path, \"PNG\")\n",
    "\n",
    "print(\"Conversion complete!\")\n"
   ]
  }
 ],
 "metadata": {
  "kernelspec": {
   "display_name": "Python 3 (ipykernel)",
   "language": "python",
   "name": "python3"
  },
  "language_info": {
   "codemirror_mode": {
    "name": "ipython",
    "version": 3
   },
   "file_extension": ".py",
   "mimetype": "text/x-python",
   "name": "python",
   "nbconvert_exporter": "python",
   "pygments_lexer": "ipython3",
   "version": "3.10.9"
  }
 },
 "nbformat": 4,
 "nbformat_minor": 5
}
